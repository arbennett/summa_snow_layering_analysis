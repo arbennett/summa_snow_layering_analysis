{
 "cells": [
  {
   "cell_type": "code",
   "execution_count": null,
   "metadata": {},
   "outputs": [],
   "source": [
    "%pylab inline\n",
    "import pandas as pd\n",
    "import pysumma as ps\n",
    "import xarray as xr\n",
    "from matplotlib import cm\n",
    "import seaborn as sns\n",
    "from pathlib import Path\n",
    "from mpl_toolkits.mplot3d import Axes3D\n",
    "from matplotlib.collections import LineCollection\n",
    "from matplotlib.colors import ListedColormap, BoundaryNorm\n",
    "from matplotlib import pyplot as plt\n",
    "from matplotlib.patches import Rectangle\n",
    "from matplotlib.lines import Line2D\n",
    "from statsmodels.api import OLS\n",
    "import numpy as np\n",
    "from matplotlib.patches import Patch\n",
    "from matplotlib.lines import Line2D\n",
    "import warnings\n",
    "warnings.simplefilter(action='ignore', category=FutureWarning)\n",
    "warnings.simplefilter(action='ignore', category=UserWarning)\n",
    "warnings.simplefilter(action='ignore', category=RuntimeWarning)\n",
    "%run ../lib/summa_snow_layering.py\n",
    "\n",
    "sns.set_context('poster')\n",
    "mpl.style.use('seaborn-bright')\n",
    "mpl.rcParams['figure.figsize'] = (18, 12)\n",
    "\n",
    "S_PER_HOUR = 3600"
   ]
  },
  {
   "cell_type": "code",
   "execution_count": null,
   "metadata": {},
   "outputs": [],
   "source": [
    "dana = xr.open_dataset('../processed/dana_perturbations.nc').load()\n",
    "coldeport = xr.open_dataset('../processed/coldeport_perturbations.nc').load()\n",
    "reynolds = xr.open_dataset('../processed/reynolds_perturbations.nc').load()\n",
    "\n",
    "dana['scalarSnowTemp'] -= 273.16\n",
    "reynolds['scalarSnowTemp'] -= 273.16\n",
    "coldeport['scalarSnowTemp'] -= 273.16\n",
    "\n",
    "dana['scalarSurfaceTemp'] -= 273.16\n",
    "reynolds['scalarSurfaceTemp'] -= 273.16\n",
    "coldeport['scalarSurfaceTemp'] -= 273.16"
   ]
  },
  {
   "cell_type": "code",
   "execution_count": null,
   "metadata": {},
   "outputs": [],
   "source": [
    "dana_years = np.arange(dana.time.dt.year.values[0], dana.time.dt.year.values[-1]-1)\n",
    "cdp_years = np.arange(coldeport.time.dt.year.values[0], coldeport.time.dt.year.values[-1])\n",
    "reynolds_years = np.arange(reynolds.time.dt.year.values[0], reynolds.time.dt.year.values[-1])"
   ]
  },
  {
   "cell_type": "code",
   "execution_count": null,
   "metadata": {},
   "outputs": [],
   "source": [
    "colors_2l = ['wheat', 'orange', 'peru']\n",
    "colors_3l = ['skyblue', 'dodgerblue', 'royalblue']\n",
    "colors_4l = ['violet', 'deeppink', 'crimson']\n",
    "colors_all = [ *colors_2l, *colors_3l, *colors_4l, 'lime']"
   ]
  },
  {
   "cell_type": "code",
   "execution_count": null,
   "metadata": {},
   "outputs": [],
   "source": [
    "year = lambda x, y: slice('{}/10/01'.format(x), '{}/09/30'.format(y))"
   ]
  },
  {
   "cell_type": "code",
   "execution_count": null,
   "metadata": {},
   "outputs": [],
   "source": [
    "year_dict = {'dana': dana_years,\n",
    "             'cdp': cdp_years,\n",
    "             'reynolds': reynolds_years}\n",
    "\n",
    "ds_dict = {'dana': dana,\n",
    "           'cdp': coldeport,\n",
    "           'reynolds': reynolds}"
   ]
  },
  {
   "cell_type": "code",
   "execution_count": null,
   "metadata": {},
   "outputs": [],
   "source": [
    "sites = ['dana', 'cdp', 'reynolds']\n",
    "temps = ['-2.0K', '+0.0K', '+2.0K', '+4.0K']\n",
    "layers = ['2L_thin' , '2L_mid', '2L_thick', '3L_thin', '3L_mid', '3L_thick', '4L_thin', '4L_mid', '4L_thick', 'CLM-like']\n",
    "\n",
    "site_years = [f'{s}_{y}' for s in sites for y in year_dict[s][:-1]]\n",
    "site_model_years = [f'{s}_{m}_{y}' for s in sites for m in layers for y in year_dict[s][:-1]]\n",
    "legend_elements = [Line2D([0], [0], marker='o', color='w', markerfacecolor=c, label=m, markersize=15) for m, c in zip(layers, colors_all)]\n",
    "layers = ['2L_thin' , '2L_mid', '2L_thick', '3L_thin', '3L_mid', '3L_thick', '4L_thin', '4L_mid', '4L_thick', 'CLM']"
   ]
  },
  {
   "cell_type": "code",
   "execution_count": null,
   "metadata": {},
   "outputs": [],
   "source": [
    "met_snow = {s: {dt: [] for dt in temps} for s in sites}\n",
    "for site in ['dana', 'cdp', 'reynolds']:\n",
    "    for dt in temps:\n",
    "        for y in year_dict[site][1:-1]:\n",
    "                tds = ds_dict[site]['scalarSnowfall'].sel(time=year(y, y+1), dt=dt, model='JRDN')\n",
    "                tbs = np.diff(np.argwhere((tds > 0).values).flatten())\n",
    "                tbs = tbs[tbs > 1]\n",
    "                met_snow[site][dt].append(tbs)"
   ]
  },
  {
   "cell_type": "code",
   "execution_count": null,
   "metadata": {},
   "outputs": [],
   "source": [
    "mbe_swe = {s: {l: {dt: [] for dt in temps} for l in layers} for s in sites }\n",
    "mbe_cc  = {s: {l: {dt: [] for dt in temps} for l in layers} for s in sites }\n",
    "mbe_sst = {s: {l: {dt: [] for dt in temps} for l in layers} for s in sites }\n",
    "met_snow = {s: {l: {dt: [] for dt in temps} for l in layers} for s in sites }\n",
    "site_year_strings = []\n",
    "\n",
    "for site in ['dana', 'cdp', 'reynolds']:\n",
    "    for dt in temps[0:2]:\n",
    "        for layer in layers:\n",
    "            for y in year_dict[site][1:-1]:\n",
    "                sim_swe   = ds_dict[site]['scalarSWE'].sel(time=year(y, y+1), dt=dt, model=layer)\n",
    "                jrdn_swe  = ds_dict[site]['scalarSWE'].sel(time=year(y, y+1), dt=dt, model='JRDN')\n",
    "                sim_sst   = ds_dict[site]['scalarSurfaceTemp'].sel(time=year(y, y+1), dt=dt, model=layer)\n",
    "                jrdn_sst  = ds_dict[site]['scalarSurfaceTemp'].sel(time=year(y, y+1), dt=dt, model='JRDN')\n",
    "                sim_cc    = ds_dict[site]['scalarColdContent'].sel(time=year(y, y+1), dt=dt, model=layer)\n",
    "                jrdn_cc   = ds_dict[site]['scalarColdContent'].sel(time=year(y, y+1), dt=dt, model='JRDN')\n",
    "                sim_sf    = ds_dict[site]['scalarSnowfall'].sel(time=year(y, y+1), dt=dt, model=layer)\n",
    "                \n",
    "                peaksnow = int(sim_swe.argmax().values[()])\n",
    "                firstsnow = np.where(sim_swe.isel(time=slice(0, peaksnow)) != 0)[0][0]\n",
    "                nosnow = np.where(sim_swe.isel(time=slice(peaksnow, None)) == 0)[0]\n",
    "                if len(nosnow):\n",
    "                    nosnow = nosnow[0] + peaksnow\n",
    "                else:\n",
    "                    nosnow = None\n",
    "                melt_season = slice(peaksnow, nosnow)\n",
    "                accum_season = slice(firstsnow, peaksnow)\n",
    "                snow_season = slice(firstsnow, nosnow)\n",
    "                sim_swe   = sim_swe.isel(time=melt_season).values\n",
    "                jrdn_swe  = jrdn_swe.isel(time=melt_season).values\n",
    "                \n",
    "                sim_cc = sim_cc.isel(time=accum_season).values / 1e6\n",
    "                jrdn_cc = jrdn_cc.isel(time=accum_season).values / 1e6\n",
    "                \n",
    "                sim_sst = sim_sst.isel(time=accum_season).values\n",
    "                jrdn_sst = jrdn_sst.isel(time=accum_season).values\n",
    "                \n",
    "                mask_cc = np.logical_and(~np.isnan(sim_cc), ~np.isnan(jrdn_cc))\n",
    "                met_snow[site][layer][dt].append(np.sum(sim_sf > 0) / len(sim_sf))\n",
    "                mbe_swe[site][layer][dt].append(mbe(sim_swe, jrdn_swe))\n",
    "                mbe_cc[site][layer][dt].append( mbe(sim_cc[mask_cc], jrdn_cc[mask_cc]))\n",
    "                mbe_sst[site][layer][dt].append(mbe(sim_sst, jrdn_sst))\n",
    "                "
   ]
  },
  {
   "cell_type": "code",
   "execution_count": null,
   "metadata": {},
   "outputs": [],
   "source": [
    "mpl.rcParams['figure.figsize'] = (12, 12)\n",
    "fig, axes = plt.subplots(1, 3, figsize=(18, 6), sharey=False, sharex=False)\n",
    "site_name = ['Dana Meadows', 'Col de Porte', 'Reynolds Creek']\n",
    "for k, s in enumerate(sites):\n",
    "    for i, layer in enumerate(layers):\n",
    "        for j, dt in enumerate(temps):\n",
    "            met_list = mbe_swe[s][layer][dt]\n",
    "            sf_list = mbe_sst[s][layer][dt]\n",
    "            axes[k].scatter(sf_list, met_list, color=colors_all[i], alpha=0.8)\n",
    "            axes[k].set_title(site_name[k])\n",
    "axes[0].set_ylabel('')\n",
    "axes[1].set_xlabel('')\n",
    "plt.legend(handles=legend_elements, bbox_to_anchor=(1.1, 1.))"
   ]
  },
  {
   "cell_type": "code",
   "execution_count": null,
   "metadata": {},
   "outputs": [],
   "source": [
    "mpl.rcParams['figure.figsize'] = (12, 12)\n",
    "fig, axes = plt.subplots(1, 3, figsize=(18, 6), sharey=False, sharex=False)\n",
    "site_name = ['Dana Meadows', 'Col de Porte', 'Reynolds Creek']\n",
    "for k, s in enumerate(sites):\n",
    "    for i, layer in enumerate(layers):\n",
    "        for j, dt in enumerate(temps):\n",
    "            met_list = mbe_swe[s][layer][dt]\n",
    "            sf_list = mbe_cc[s][layer][dt]\n",
    "            axes[k].scatter(sf_list, met_list, color=colors_all[i], alpha=0.8)\n",
    "            axes[k].set_title(site_name[k])\n",
    "axes[0].set_ylabel(r'$\\Delta$SWE from SNTHERM-like (mm)')\n",
    "axes[1].set_xlabel(r'$\\Delta$ Cold Content from SNTHERM-like (MJ)')\n",
    "plt.legend(handles=legend_elements, bbox_to_anchor=(1.1, 1.))"
   ]
  },
  {
   "cell_type": "code",
   "execution_count": null,
   "metadata": {},
   "outputs": [],
   "source": [
    "fig, axes = plt.subplots(1, 1, sharex=True, sharey=True, figsize=(12, 12))\n",
    "mbe_cc_list = []\n",
    "mbe_swe_list = []\n",
    "for k, s in enumerate(sites[0:2]):\n",
    "    for i, l in enumerate(layers):\n",
    "        for j, dt in enumerate(temps):\n",
    "            axes.scatter(mbe_cc[s][l][dt],\n",
    "                         mbe_swe[s][l][dt], color=colors_all[i],\n",
    "                         alpha=0.7)\n",
    "            mbe_cc_list.append(np.array(mbe_cc[s][l][dt]))\n",
    "            mbe_swe_list.append(np.array(mbe_swe[s][l][dt]))\n",
    "       \n",
    "mbe_cc_list = np.hstack(mbe_cc_list).reshape(-1, 1)\n",
    "mbe_swe_list = np.hstack(mbe_swe_list).reshape(-1, 1)\n",
    "\n",
    "ols = OLS(mbe_swe_list, mbe_cc_list, )\n",
    "res = ols.fit(cov_type='HC1')\n",
    "\n",
    "res.params[0]\n",
    "res.rsquared_adj\n",
    "res.f_pvalue\n",
    "\n",
    "fig.text(0.5, 0.04, r'$Cold\\ content$ (MJ)', ha='center', fontsize=22)\n",
    "fig.text(0.0, 0.5, r'SWE (mm)', va='center', rotation='vertical', fontsize=22)\n",
    "plt.legend(handles=legend_elements, bbox_to_anchor=(1., 1.))\n"
   ]
  },
  {
   "cell_type": "code",
   "execution_count": null,
   "metadata": {},
   "outputs": [],
   "source": []
  }
 ],
 "metadata": {
  "kernelspec": {
   "display_name": "all",
   "language": "python",
   "name": "all"
  },
  "language_info": {
   "codemirror_mode": {
    "name": "ipython",
    "version": 3
   },
   "file_extension": ".py",
   "mimetype": "text/x-python",
   "name": "python",
   "nbconvert_exporter": "python",
   "pygments_lexer": "ipython3",
   "version": "3.7.3"
  }
 },
 "nbformat": 4,
 "nbformat_minor": 4
}
