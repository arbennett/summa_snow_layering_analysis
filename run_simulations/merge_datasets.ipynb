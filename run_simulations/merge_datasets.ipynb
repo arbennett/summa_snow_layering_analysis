{
 "cells": [
  {
   "cell_type": "code",
   "execution_count": null,
   "metadata": {},
   "outputs": [],
   "source": [
    "%pylab inline\n",
    "import time\n",
    "import pandas as pd\n",
    "import pysumma as ps\n",
    "import xarray as xr\n",
    "from matplotlib import cm\n",
    "import itertools\n",
    "import seaborn as sns\n",
    "from pathlib import Path\n",
    "from matplotlib.collections import LineCollection\n",
    "from matplotlib.colors import ListedColormap, BoundaryNorm\n",
    "from tqdm import tqdm_notebook as tqdm\n",
    "sns.set_context('talk')\n",
    "\n",
    "mpl.style.use('seaborn-bright')\n",
    "mpl.rcParams['figure.figsize'] = (18, 6)\n",
    "colors = ['black', 'lime', 'wheat', 'orange', 'peru', 'skyblue', 'dodgerblue', 'royalblue', 'violet', 'deeppink', 'crimson']\n",
    "from cycler import cycler\n",
    "cc = cycler(color=colors)\n",
    "\n",
    "mpl.rcParams['axes.prop_cycle'] = cc\n",
    "%run ../lib/summa_snow_layering.py"
   ]
  },
  {
   "cell_type": "code",
   "execution_count": null,
   "metadata": {},
   "outputs": [],
   "source": [
    "dt_list = ['-2.0K', '+0.0K', '+2.0K', '+4.0K']\n",
    "model_list = ['JRDN', 'CLM', '2L_thin', '2L_mid', '2L_thick', '3L_thin', '3L_mid', '3L_thick', '4L_thin', '4L_mid', '4L_thick']\n",
    "site_list = ['Dana', 'Reynolds_Creek', 'Col-de-Port']\n",
    "fname_mapper = {\n",
    "    'Dana'           : './dana/output/template_output_DT_MODEL_timestep.nc',\n",
    "    'Reynolds_Creek' : './reynolds/output/reynolds_DT_MODEL_timestep.nc',\n",
    "    'Col-de-Port'    : './coldeport/output/template_output_DT_MODEL_timestep.nc',\n",
    "}\n",
    "\n",
    "fname_in_mapper = {\n",
    "    'Dana': './dana/forcings/dana_forcing_DT.nc',\n",
    "    'Reynolds_Creek': './reynolds/forcing/forcing_above_aspen_DT.nc',\n",
    "    'Col-de-Port': './coldeport/forcings/col-de-port_1993-2011_DT.nc'\n",
    "}"
   ]
  },
  {
   "cell_type": "code",
   "execution_count": null,
   "metadata": {},
   "outputs": [],
   "source": [
    "dana_force_files = [fname_in_mapper['Dana'].replace('DT', dt) for dt in dt_list]\n",
    "reynolds_force_files = [fname_in_mapper['Reynolds_Creek'].replace('DT', dt) for dt in dt_list]\n",
    "coldeport_force_files = [fname_in_mapper['Col-de-Port'].replace('DT', dt) for dt in dt_list]\n",
    "\n",
    "dana_files = [fname_mapper['Dana'].replace('DT', dt).replace('MODEL', model) for dt in dt_list for model in model_list]\n",
    "reynolds_files = [fname_mapper['Reynolds_Creek'].replace('DT', dt).replace('MODEL', model) for dt in dt_list for model in model_list]\n",
    "coldeport_files = [fname_mapper['Col-de-Port'].replace('DT', dt).replace('MODEL', model) for dt in dt_list for model in model_list]\n",
    "\n",
    "dana_force_list = [xr.open_dataset(file).load() for file in tqdm(dana_force_files)]\n",
    "reynolds_force_list = [xr.open_dataset(file).load() for file in tqdm(reynolds_force_files)]\n",
    "coldeport_force_list = [xr.open_dataset(file).load() for file in tqdm(coldeport_force_files)]\n",
    "\n",
    "dana_ds_list = [subset_and_aggregate_ds(xr.open_dataset(file).load()) for file in tqdm(dana_files)]\n",
    "reynolds_ds_list = [subset_and_aggregate_ds(xr.open_dataset(file).load()) for file in tqdm(reynolds_files)]\n",
    "coldeport_ds_list = [subset_and_aggregate_ds(xr.open_dataset(file).load()) for file in tqdm(coldeport_files)]"
   ]
  },
  {
   "cell_type": "code",
   "execution_count": null,
   "metadata": {},
   "outputs": [],
   "source": [
    "new_coords = {'dt': dt_list, 'model': model_list}\n",
    "dim_tuple = itertools.product(dt_list, model_list)\n",
    "idx = pd.MultiIndex.from_tuples(dim_tuple, names=('dt', 'model'))\n",
    "\n",
    "cdp_ds_concat = xr.concat(coldeport_ds_list, dim='new')\n",
    "dana_ds_concat = xr.concat(dana_ds_list, dim='new')\n",
    "reynolds_ds_concat = xr.concat(reynolds_ds_list, dim='new')\n",
    "\n",
    "cdp_force_concat = xr.concat(coldeport_force_list, dim='new')\n",
    "dana_force_concat = xr.concat(dana_force_list, dim='new')\n",
    "reynolds_force_concat = xr.concat(reynolds_force_list, dim='new')\n",
    "\n",
    "cdp_ds_concat['new'] = idx\n",
    "cdp_merged = cdp_ds_concat.unstack('new').drop('hru')\n",
    "\n",
    "dana_ds_concat['new'] = idx\n",
    "reynolds_ds_concat['new'] = idx\n",
    "\n",
    "dana_merged = dana_ds_concat.unstack('new').drop('hru')\n",
    "reynolds_merged = reynolds_ds_concat.unstack('new').drop('hru')"
   ]
  },
  {
   "cell_type": "code",
   "execution_count": null,
   "metadata": {},
   "outputs": [],
   "source": [
    "dana_force_ds = xr.concat(dana_force_list, dim='dt').isel(hru=0, drop=True)\n",
    "dana_force_ds['time'] = dana_force_ds['time'].dt.round('H')\n",
    "\n",
    "reynolds_force_ds = xr.concat(reynolds_force_list, dim='dt').isel(hru=0, drop=True)\n",
    "reynolds_force_ds['time'] = reynolds_force_ds['time'].dt.round('H')\n",
    "\n",
    "cdp_force_ds = xr.concat(coldeport_force_list, dim='dt').isel(hru=0, drop=True)\n",
    "cdp_force_ds['time'] = cdp_force_ds['time'].dt.round('H')\n",
    "\n",
    "dana_force_ds['dt'] = dt_list\n",
    "reynolds_force_ds['dt'] = dt_list\n",
    "cdp_force_ds['dt'] = dt_list"
   ]
  },
  {
   "cell_type": "code",
   "execution_count": null,
   "metadata": {},
   "outputs": [],
   "source": [
    "dana_merged['time'] = dana_merged['time'].dt.round('H')\n",
    "dana_force_ds = dana_force_ds.sel(time=dana_merged['time'])\n",
    "dana_merged = xr.merge([dana_force_ds, dana_merged])\n",
    "\n",
    "reynolds_merged['time'] = reynolds_merged['time'].dt.round('H')\n",
    "reynolds_force_ds = reynolds_force_ds.sel(time=reynolds_merged['time'])\n",
    "reynolds_merged = xr.merge([reynolds_force_ds, reynolds_merged])\n",
    "\n",
    "cdp_merged['time'] = cdp_merged['time'].dt.round('H')\n",
    "cdp_force_ds = cdp_force_ds.sel(time=cdp_merged['time'])\n",
    "cdp_merged = xr.merge([cdp_force_ds, cdp_merged])"
   ]
  },
  {
   "cell_type": "code",
   "execution_count": null,
   "metadata": {},
   "outputs": [],
   "source": [
    "cdp_merged.to_netcdf('../processed/coldeport_perturbations.nc')\n",
    "dana_merged.to_netcdf('../processed/dana_perturbations.nc')\n",
    "reynolds_merged.to_netcdf('../processed/reynolds_perturbations.nc')"
   ]
  },
  {
   "cell_type": "code",
   "execution_count": null,
   "metadata": {},
   "outputs": [],
   "source": []
  }
 ],
 "metadata": {
  "kernelspec": {
   "display_name": "all",
   "language": "python",
   "name": "all"
  },
  "language_info": {
   "codemirror_mode": {
    "name": "ipython",
    "version": 3
   },
   "file_extension": ".py",
   "mimetype": "text/x-python",
   "name": "python",
   "nbconvert_exporter": "python",
   "pygments_lexer": "ipython3",
   "version": "3.7.3"
  }
 },
 "nbformat": 4,
 "nbformat_minor": 4
}
