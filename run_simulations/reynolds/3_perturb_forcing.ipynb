{
 "cells": [
  {
   "cell_type": "code",
   "execution_count": 1,
   "metadata": {},
   "outputs": [],
   "source": [
    "#! ./install_local_setup.sh\n",
    "! cp ../reynolds_summa_setup_fresh/settings/snow_zLocalParamInfo.txt ./settings/snow_zLocalParamInfo.txt\n",
    "! cp ../reynolds_summa_setup_fresh/settings/snow_zDecisions.txt ./settings/snow_zDecisions.txt\n",
    "! cp ../reynolds_summa_setup_fresh/settings/snow_zOutputControl.txt ./settings/snow_zOutputControl.txt"
   ]
  },
  {
   "cell_type": "code",
   "execution_count": 2,
   "metadata": {},
   "outputs": [
    {
     "name": "stdout",
     "output_type": "stream",
     "text": [
      "Populating the interactive namespace from numpy and matplotlib\n"
     ]
    }
   ],
   "source": [
    "%pylab inline\n",
    "import pandas as pd\n",
    "import pysumma as ps\n",
    "import xarray as xr\n",
    "from matplotlib import cm\n",
    "import seaborn as sns\n",
    "from matplotlib.collections import LineCollection\n",
    "from matplotlib.colors import ListedColormap, BoundaryNorm\n",
    "sns.set_context('talk')\n",
    "mpl.style.use('seaborn-bright')\n",
    "mpl.rcParams['figure.figsize'] = (18, 12)"
   ]
  },
  {
   "cell_type": "code",
   "execution_count": 3,
   "metadata": {},
   "outputs": [],
   "source": [
    "def vapor_pressure(spechum, airpres):\n",
    "    eps = 0.62196351\n",
    "    pres = airpres / 1000\n",
    "    return 10 * ((spechum * pres) / (spechum + eps - eps * pres))\n",
    "\n",
    "def longwave(temp, vp):\n",
    "    emis = 1 - (1 + (46.5 * vp / temp)) * np.exp(\n",
    "            -np.sqrt((1.2 + 3. * (46.5 * vp / temp))))\n",
    "    stefan = 5.669e-8\n",
    "    return emis * stefan * np.power(temp, 4)\n",
    "\n",
    "def validate_layer_params(params):\n",
    "    for i in range(1,5):\n",
    "        assert params[f'zmaxLayer{i}_upper'] <= params[f'zmaxLayer{i}_lower'], \\\n",
    "               \"{} - {} - {}\".format(i, params[f'zmaxLayer{i}_upper'], params[f'zmaxLayer{i}_lower'])\n",
    "        assert params[f'zmaxLayer{i}_upper'] / params[f'zminLayer{i}'] >= 2.5, \\\n",
    "               \"{} - {} - {}\".format(i, params[f'zmaxLayer{i}_upper'], params[f'zminLayer{i}'])\n",
    "        assert params[f'zmaxLayer{i}_upper'] / params[f'zminLayer{i+1}'] >= 2.5, \\\n",
    "               \"{} - {} - {}\".format(i, params[f'zmaxLayer{i}_upper'], params[f'zminLayer{i+1}'])"
   ]
  },
  {
   "cell_type": "code",
   "execution_count": 4,
   "metadata": {},
   "outputs": [],
   "source": [
    "\n",
    "dt_list = ['-2.0', '+0.0', '+2.0', '+4.0']"
   ]
  },
  {
   "cell_type": "code",
   "execution_count": 5,
   "metadata": {},
   "outputs": [],
   "source": [
    "ds = xr.open_dataset('./forcing/forcing_above_aspen.nc')"
   ]
  },
  {
   "cell_type": "raw",
   "metadata": {},
   "source": [
    "\n",
    "for dt in dt_list:\n",
    "    dt = float(dt)\n",
    "    ds_perturb = ds.copy(deep=True)\n",
    "    if dt == 0:\n",
    "        ds_perturb['airtemp'] += np.around(dt, 3)\n",
    "    else:\n",
    "        ds_perturb['airtemp'] += np.around(dt, 3) -0.1\n",
    "    vp = vapor_pressure(ds_perturb['spechum'], ds_perturb['airpres'])\n",
    "    lwradatm = longwave(ds_perturb['airtemp'], vp)\n",
    "    ds_perturb['LWRadAtm'].values =  lwradatm #np.max([ds['LWRadAtm'], lwradatm], axis=0)\n",
    "    if dt >= 0:\n",
    "        print('Writing forcing_above_aspen_+{}K.nc'.format(np.around(dt, 3)))\n",
    "        ds_perturb.to_netcdf('./forcing/forcing_above_aspen_+{}K.nc'.format(np.around(dt, 3)))\n",
    "    else:\n",
    "        print('Writing forcing_above_aspen_{}K.nc'.format(np.around(dt, 3)))\n",
    "        ds_perturb.to_netcdf('./forcing/forcing_above_aspen_{}K.nc'.format(np.around(dt, 3)))"
   ]
  },
  {
   "cell_type": "code",
   "execution_count": 6,
   "metadata": {},
   "outputs": [
    {
     "name": "stdout",
     "output_type": "stream",
     "text": [
      "0\n",
      "1\n",
      "2\n",
      "3\n",
      "4\n",
      "5\n",
      "6\n",
      "7\n",
      "8\n",
      "9\n"
     ]
    }
   ],
   "source": [
    "default_params = {'zminLayer1':      0.0075,   'zminLayer2':       0.0100,  'zminLayer3':       0.0500,  'zminLayer4':       0.1000,  'zminLayer5': 0.2500, \n",
    "                  'zmaxLayer1_lower': 0.0500,  'zmaxLayer2_lower': 0.2000,  'zmaxLayer3_lower': 0.5000,  'zmaxLayer4_lower': 1.0000, \n",
    "                  'zmaxLayer1_upper': 0.0300,  'zmaxLayer2_upper': 0.1500,  'zmaxLayer3_upper': 0.3000,  'zmaxLayer4_upper': 0.7500 }\n",
    "\n",
    "one_layer     = {'zminLayer1':       0.0075, 'zminLayer2':       1000.0, 'zminLayer3':       1000., 'zminLayer4':       1000., 'zminLayer5': 1000.,\n",
    "                 'zmaxLayer1_lower': 9000.0, 'zmaxLayer2_lower': 9000.0, 'zmaxLayer3_lower': 9000., 'zmaxLayer4_lower': 9000., \n",
    "                 'zmaxLayer1_upper': 3000.0, 'zmaxLayer2_upper': 9000.0, 'zmaxLayer3_upper': 9000., 'zmaxLayer4_upper': 9000. } \n",
    "\n",
    "thick_2_layer = {'zminLayer1':       0.0075, 'zminLayer2':       0.0100, 'zminLayer3':        100., 'zminLayer4':      100., 'zminLayer5': 100.,\n",
    "                 'zmaxLayer1_lower': 0.1250, 'zmaxLayer2_lower': 9000.0, 'zmaxLayer3_lower': 9000., 'zmaxLayer4_lower': 9000., \n",
    "                 'zmaxLayer1_upper': 0.1250, 'zmaxLayer2_upper': 9000.0, 'zmaxLayer3_upper': 9000., 'zmaxLayer4_upper': 9000. } \n",
    "\n",
    "mid_2_layer = {'zminLayer1':       0.0075, 'zminLayer2':       0.0100, 'zminLayer3':        100., 'zminLayer4':      100., 'zminLayer5': 100.,\n",
    "               'zmaxLayer1_lower': 0.050, 'zmaxLayer2_lower': 9000.0, 'zmaxLayer3_lower': 9000., 'zmaxLayer4_lower': 9000., \n",
    "               'zmaxLayer1_upper': 0.050, 'zmaxLayer2_upper': 9000.0, 'zmaxLayer3_upper': 9000., 'zmaxLayer4_upper': 9000. } \n",
    "\n",
    "thin_2_layer = {'zminLayer1':       0.0075, 'zminLayer2':       0.0100, 'zminLayer3':        100., 'zminLayer4':      100., 'zminLayer5': 100.,\n",
    "                'zmaxLayer1_lower': 0.0250, 'zmaxLayer2_lower': 9000.0, 'zmaxLayer3_lower': 9000., 'zmaxLayer4_lower': 9000., \n",
    "                'zmaxLayer1_upper': 0.0250, 'zmaxLayer2_upper': 9000.0, 'zmaxLayer3_upper': 9000., 'zmaxLayer4_upper': 9000. } \n",
    "\n",
    "thick_3_layer = {'zminLayer1': 0.01, 'zminLayer2': 0.01, 'zminLayer3': 0.01, 'zminLayer4': 1000., 'zminLayer5': 1000.,\n",
    "               'zmaxLayer1_lower': 0.125, 'zmaxLayer2_lower': 0.2, 'zmaxLayer3_lower': 9000., 'zmaxLayer4_lower': 9000.,\n",
    "               'zmaxLayer1_upper': 0.125, 'zmaxLayer2_upper': 0.2, 'zmaxLayer3_upper': 9000., 'zmaxLayer4_upper': 9000.}\n",
    "    \n",
    "mid_3_layer = {'zminLayer1': 0.01, 'zminLayer2': 0.01, 'zminLayer3': 0.01, 'zminLayer4': 1000., 'zminLayer5': 1000.,\n",
    "               'zmaxLayer1_lower': 0.050, 'zmaxLayer2_lower': 0.2, 'zmaxLayer3_lower': 9000., 'zmaxLayer4_lower': 9000.,\n",
    "               'zmaxLayer1_upper': 0.050, 'zmaxLayer2_upper': 0.2, 'zmaxLayer3_upper': 9000., 'zmaxLayer4_upper': 9000.}\n",
    "\n",
    "thin_3_layer = {'zminLayer1': 0.01, 'zminLayer2': 0.01, 'zminLayer3': 0.01, 'zminLayer4': 1000., 'zminLayer5': 1000.,\n",
    "               'zmaxLayer1_lower': 0.025, 'zmaxLayer2_lower': 0.2, 'zmaxLayer3_lower': 9000., 'zmaxLayer4_lower': 9000.,\n",
    "               'zmaxLayer1_upper': 0.025, 'zmaxLayer2_upper': 0.2, 'zmaxLayer3_upper': 9000., 'zmaxLayer4_upper': 9000.}\n",
    "\n",
    "thick_4_layer = {'zminLayer1': 0.01, 'zminLayer2': 0.01, 'zminLayer3': 0.01, 'zminLayer4': 0.015, 'zminLayer5': 1000.,\n",
    "               'zmaxLayer1_lower': 0.075, 'zmaxLayer2_lower': 0.15, 'zmaxLayer3_lower': 0.20, 'zmaxLayer4_lower': 9000.,\n",
    "               'zmaxLayer1_upper': 0.075, 'zmaxLayer2_upper': 0.15, 'zmaxLayer3_upper': 0.20, 'zmaxLayer4_upper': 9000.}\n",
    "    \n",
    "mid_4_layer = {'zminLayer1': 0.01, 'zminLayer2': 0.01, 'zminLayer3': 0.01, 'zminLayer4': 0.015, 'zminLayer5': 1000.,\n",
    "               'zmaxLayer1_lower': 0.050, 'zmaxLayer2_lower': 0.125, 'zmaxLayer3_lower': 0.20, 'zmaxLayer4_lower': 9000.,\n",
    "               'zmaxLayer1_upper': 0.050, 'zmaxLayer2_upper': 0.125, 'zmaxLayer3_upper': 0.20, 'zmaxLayer4_upper': 9000.}\n",
    "\n",
    "thin_4_layer = {'zminLayer1': 0.01, 'zminLayer2': 0.01, 'zminLayer3': 0.01, 'zminLayer4': 0.015, 'zminLayer5': 1000.,\n",
    "               'zmaxLayer1_lower': 0.025, 'zmaxLayer2_lower': 0.100, 'zmaxLayer3_lower': 0.20, 'zmaxLayer4_lower': 9000.,\n",
    "               'zmaxLayer1_upper': 0.025, 'zmaxLayer2_upper': 0.100, 'zmaxLayer3_upper': 0.20, 'zmaxLayer4_upper': 9000.}\n",
    "\n",
    "for i, l in enumerate([one_layer, thin_2_layer, thick_2_layer, mid_2_layer, \n",
    "                       thick_3_layer, mid_3_layer, thin_3_layer,\n",
    "                       thick_4_layer, mid_4_layer, thin_4_layer]):\n",
    "    print(i)\n",
    "    validate_layer_params(l)\n",
    "    \n",
    "\n",
    "config_all = {'{}K_CLM'.format(dt): {'file_manager': './file_manager_{}K.txt'.format(dt),\n",
    "                                     'decisions': {'snowLayers': 'CLM_2010'},\n",
    "                                     'parameters': default_params} for dt in dt_list}\n",
    "\n",
    "config_1layer = {'{}K_1L_all'.format(dt): {'file_manager': './file_manager_{}K.txt'.format(dt),\n",
    "                                            'decisions': {'snowLayers': 'CLM_2010'},\n",
    "                                            'parameters': one_layer} for dt in dt_list}\n",
    "\n",
    "config_2layer = {'{}K_2L_thin'.format(dt): {'file_manager': './file_manager_{}K.txt'.format(dt),\n",
    "                                            'decisions': {'snowLayers': 'CLM_2010'},\n",
    "                                            'parameters': thin_2_layer} for dt in dt_list}\n",
    "config_2layer.update({'{}K_2L_mid'.format(dt): {'file_manager': './file_manager_{}K.txt'.format(dt),\n",
    "                                                 'decisions': {'snowLayers': 'CLM_2010'},\n",
    "                                                 'parameters': mid_2_layer} for dt in dt_list})\n",
    "config_2layer.update({'{}K_2L_thick'.format(dt): {'file_manager': './file_manager_{}K.txt'.format(dt),\n",
    "                                                   'decisions': {'snowLayers': 'CLM_2010'},\n",
    "                                                   'parameters': thick_2_layer} for dt in dt_list})\n",
    "\n",
    "config_3layer = {'{}K_3L_thin'.format(dt): {'file_manager': './file_manager_{}K.txt'.format(dt),\n",
    "                                            'decisions': {'snowLayers': 'CLM_2010'},\n",
    "                                            'parameters': thin_3_layer} for dt in dt_list}\n",
    "config_3layer.update({'{}K_3L_mid'.format(dt): {'file_manager': './file_manager_{}K.txt'.format(dt),\n",
    "                                                 'decisions': {'snowLayers': 'CLM_2010'},\n",
    "                                                 'parameters': mid_3_layer} for dt in dt_list})\n",
    "config_3layer.update({'{}K_3L_thick'.format(dt): {'file_manager': './file_manager_{}K.txt'.format(dt),\n",
    "                                                   'decisions': {'snowLayers': 'CLM_2010'},\n",
    "                                                   'parameters': thick_3_layer} for dt in dt_list})\n",
    "\n",
    "config_4layer = {'{}K_4L_thin'.format(dt): {'file_manager': './file_manager_{}K.txt'.format(dt),\n",
    "                                            'decisions': {'snowLayers': 'CLM_2010'},\n",
    "                                            'parameters': thin_4_layer} for dt in dt_list}\n",
    "config_4layer.update({'{}K_4L_mid'.format(dt): {'file_manager': './file_manager_{}K.txt'.format(dt),\n",
    "                                                 'decisions': {'snowLayers': 'CLM_2010'},\n",
    "                                                 'parameters': mid_4_layer} for dt in dt_list})\n",
    "config_4layer.update({'{}K_4L_thick'.format(dt): {'file_manager': './file_manager_{}K.txt'.format(dt),\n",
    "                                                   'decisions': {'snowLayers': 'CLM_2010'},\n",
    "                                                   'parameters': thick_4_layer} for dt in dt_list})\n",
    "\n",
    "config_jrdn = {'{}K_JRDN'.format(dt): {'file_manager': './file_manager_{}K.txt'.format(dt),\n",
    "                                       'decisions': {'snowLayers': 'jrdn1991'},\n",
    "                                       'parameters': default_params} for dt in dt_list}"
   ]
  },
  {
   "cell_type": "code",
   "execution_count": 7,
   "metadata": {},
   "outputs": [],
   "source": [
    "config_all.update(config_jrdn)\n",
    "config_all.update(config_1layer)\n",
    "config_all.update(config_2layer)\n",
    "config_all.update(config_3layer)\n",
    "config_all.update(config_4layer)"
   ]
  },
  {
   "cell_type": "code",
   "execution_count": 8,
   "metadata": {},
   "outputs": [],
   "source": [
    "#failed = ['+0.0K_JRDN']\n",
    "#config_all = {k: config_all[k] for k in failed}"
   ]
  },
  {
   "cell_type": "code",
   "execution_count": 9,
   "metadata": {},
   "outputs": [
    {
     "data": {
      "text/plain": [
       "48"
      ]
     },
     "execution_count": 9,
     "metadata": {},
     "output_type": "execute_result"
    }
   ],
   "source": [
    "len(list(config_all.keys()))"
   ]
  },
  {
   "cell_type": "code",
   "execution_count": 10,
   "metadata": {},
   "outputs": [],
   "source": [
    "executable = '/pool0/data/andrbenn/summa/bin/summa.exe'"
   ]
  },
  {
   "cell_type": "code",
   "execution_count": 11,
   "metadata": {},
   "outputs": [],
   "source": [
    "ens_dt = ps.Ensemble(executable, config_all, num_workers=24)"
   ]
  },
  {
   "cell_type": "code",
   "execution_count": 12,
   "metadata": {},
   "outputs": [],
   "source": [
    "ens_dt.run('local')"
   ]
  },
  {
   "cell_type": "code",
   "execution_count": 13,
   "metadata": {},
   "outputs": [
    {
     "name": "stdout",
     "output_type": "stream",
     "text": [
      "['+2.0K_3L_thin']\n"
     ]
    }
   ],
   "source": [
    "print(ens_dt.summary()['error'])"
   ]
  },
  {
   "cell_type": "code",
   "execution_count": 16,
   "metadata": {},
   "outputs": [],
   "source": [
    "ens_dt.rerun_failed('local')"
   ]
  },
  {
   "cell_type": "code",
   "execution_count": 17,
   "metadata": {},
   "outputs": [
    {
     "name": "stdout",
     "output_type": "stream",
     "text": [
      " 0\n",
      "2008  9 18  0  0\n",
      "2008  9 19  0  0\n",
      "2008  9 20  0  0\n",
      "2008  9 21  0  0\n",
      "2008  9 22  0  0\n",
      "2008  9 23  0  0\n",
      "2008  9 24  0  0\n",
      "2008  9 25  0  0\n",
      "2008  9 26  0  0\n",
      "2008  9 27  0  0\n",
      "2008  9 28  0  0\n",
      "2008  9 29  0  0\n",
      "2008  9 30  0  0\n",
      "\n",
      "initial date/time = 2020-06-09  16:02:24.137\n",
      "  final date/time = 2020-06-09  16:07:22.105\n",
      "\n",
      "     elapsed init =   3.0000000E-02 s\n",
      "    fraction init =   1.0068195E-04\n",
      "\n",
      "    elapsed setup =   3.2000000E-02 s\n",
      "   fraction setup =   1.0739408E-04\n",
      "\n",
      "  elapsed restart =   9.0000000E-03 s\n",
      " fraction restart =   3.0204586E-05\n",
      "\n",
      "     elapsed read =    17.84300     s\n",
      "    fraction read =   5.9882269E-02\n",
      "\n",
      "    elapsed write =    118.5060     s\n",
      "   fraction write =   0.3977138    \n",
      "\n",
      "  elapsed physics =    161.1340     s\n",
      " fraction physics =   0.5407762    \n",
      "\n",
      "     elapsed time =    297.9680     s\n",
      "       or              4.966133     m\n",
      "       or             8.2768889E-02 h\n",
      "       or             3.4487037E-03 d\n",
      "\n",
      "   number threads =          1\n",
      "\n",
      " FORTRAN STOP: finished simulation successfully.\n",
      "\n"
     ]
    }
   ],
   "source": [
    "print(ens_dt.simulations['+2.0K_3L_thin'].stdout[-1000:])"
   ]
  },
  {
   "cell_type": "code",
   "execution_count": 18,
   "metadata": {},
   "outputs": [
    {
     "name": "stdout",
     "output_type": "stream",
     "text": [
      "\n"
     ]
    }
   ],
   "source": [
    "print(ens_dt.simulations['+2.0K_3L_thin'].stderr[-1000:])"
   ]
  },
  {
   "cell_type": "code",
   "execution_count": null,
   "metadata": {},
   "outputs": [],
   "source": [
    "print(ens_dt.simulations['+0.0K_JRDN'].stderr[-1000:])"
   ]
  },
  {
   "cell_type": "code",
   "execution_count": null,
   "metadata": {},
   "outputs": [],
   "source": []
  }
 ],
 "metadata": {
  "kernelspec": {
   "display_name": "all",
   "language": "python",
   "name": "all"
  },
  "language_info": {
   "codemirror_mode": {
    "name": "ipython",
    "version": 3
   },
   "file_extension": ".py",
   "mimetype": "text/x-python",
   "name": "python",
   "nbconvert_exporter": "python",
   "pygments_lexer": "ipython3",
   "version": "3.7.3"
  }
 },
 "nbformat": 4,
 "nbformat_minor": 4
}
