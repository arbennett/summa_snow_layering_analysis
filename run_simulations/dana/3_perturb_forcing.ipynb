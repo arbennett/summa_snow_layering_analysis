{
 "cells": [
  {
   "cell_type": "code",
   "execution_count": 1,
   "metadata": {},
   "outputs": [],
   "source": [
    "! ./install_local_setup.sh\n",
    "%pylab inline\n",
    "import pandas as pd\n",
    "import pysumma as ps\n",
    "import xarray as xr\n",
    "from matplotlib import cm\n",
    "import seaborn as sns\n",
    "from matplotlib.collections import LineCollection\n",
    "from matplotlib.colors import ListedColormap, BoundaryNorm\n",
    "sns.set_context('talk')\n",
    "mpl.style.use('seaborn-bright')\n",
    "mpl.rcParams['figure.figsize'] = (18, 12)\n",
    "\n",
    "dt_list = [-4.0, -2.0, 0.0, 2.0, 4.0]\n",
    "ds = xr.open_dataset('./forcings/dana_forcing.nc')"
   ]
  },
  {
   "cell_type": "code",
   "execution_count": 3,
   "metadata": {},
   "outputs": [
    {
     "name": "stdout",
     "output_type": "stream",
     "text": [
      "Writing dana_forcing_-2.0K.nc\n",
      "Writing dana_forcing_+0.0K.nc\n",
      "Writing dana_forcing_+2.0K.nc\n",
      "Writing dana_forcing_+4.0K.nc\n"
     ]
    }
   ],
   "source": [
    "def validate_layer_params(params):\n",
    "    for i in range(1,5):\n",
    "        assert params[f'zmaxLayer{i}_upper'] <= params[f'zmaxLayer{i}_lower'], \\\n",
    "               \"{} - {} - {}\".format(i, params[f'zmaxLayer{i}_upper'], params[f'zmaxLayer{i}_lower'])\n",
    "        assert params[f'zmaxLayer{i}_upper'] / params[f'zminLayer{i}'] >= 2.5, \\\n",
    "               \"{} - {} - {}\".format(i, params[f'zmaxLayer{i}_upper'], params[f'zminLayer{i}'])\n",
    "        assert params[f'zmaxLayer{i}_upper'] / params[f'zminLayer{i+1}'] >= 2.5, \\\n",
    "               \"{} - {} - {}\".format(i, params[f'zmaxLayer{i}_upper'], params[f'zminLayer{i+1}'])\n",
    "\n",
    "def vapor_pressure(spechum, airpres):\n",
    "    eps = 0.62196351\n",
    "    pres = airpres / 1000\n",
    "    return 10 * ((spechum * pres) / (spechum + eps - eps * pres))\n",
    "\n",
    "def longwave(temp, vp):\n",
    "    emis = 1 - (1 + (46.5 * vp / temp)) * np.exp(\n",
    "            -np.sqrt((1.2 + 3. * (46.5 * vp / temp))))\n",
    "    stefan = 5.669e-8\n",
    "    return emis * stefan * np.power(temp, 4)\n",
    "\n",
    "for dt in dt_list:\n",
    "    ds_perturb = ds.copy(deep=True)\n",
    "    ds_perturb['airtemp'] += np.around(dt, 3)\n",
    "    vp = vapor_pressure(ds_perturb['spechum'], ds_perturb['airpres'])\n",
    "    lwradatm = longwave(ds_perturb['airtemp'], vp)\n",
    "    ds_perturb['LWRadAtm'].values =  lwradatm #np.max([ds['LWRadAtm'], lwradatm], axis=0)\n",
    "    if dt >= 0:\n",
    "        print('Writing dana_forcing_+{}K.nc'.format(np.around(dt, 3)))\n",
    "        ds_perturb.to_netcdf('./forcings/dana_forcing_+{}K.nc'.format(np.around(dt, 3)))\n",
    "    else:\n",
    "        print('Writing dana_forcing_{}K.nc'.format(np.around(dt, 3)))\n",
    "        ds_perturb.to_netcdf('./forcings/dana_forcing_{}K.nc'.format(np.around(dt, 3)))"
   ]
  },
  {
   "cell_type": "code",
   "execution_count": 4,
   "metadata": {},
   "outputs": [
    {
     "name": "stdout",
     "output_type": "stream",
     "text": [
      "0\n",
      "1\n",
      "2\n",
      "3\n",
      "4\n",
      "5\n",
      "6\n",
      "7\n",
      "8\n",
      "9\n"
     ]
    }
   ],
   "source": [
    "default_params = {'zminLayer1':      0.0075,   'zminLayer2':       0.0100,  'zminLayer3':       0.0500,  'zminLayer4':       0.1000,  'zminLayer5': 0.2500, \n",
    "                  'zmaxLayer1_lower': 0.0500,  'zmaxLayer2_lower': 0.2000,  'zmaxLayer3_lower': 0.5000,  'zmaxLayer4_lower': 1.0000, \n",
    "                  'zmaxLayer1_upper': 0.0300,  'zmaxLayer2_upper': 0.1500,  'zmaxLayer3_upper': 0.3000,  'zmaxLayer4_upper': 0.7500 }\n",
    "\n",
    "one_layer     = {'zminLayer1':       0.0075, 'zminLayer2':       1000.0, 'zminLayer3':       1000., 'zminLayer4':       1000., 'zminLayer5': 1000.,\n",
    "                 'zmaxLayer1_lower': 9000.0, 'zmaxLayer2_lower': 9000.0, 'zmaxLayer3_lower': 9000., 'zmaxLayer4_lower': 9000., \n",
    "                 'zmaxLayer1_upper': 3000.0, 'zmaxLayer2_upper': 9000.0, 'zmaxLayer3_upper': 9000., 'zmaxLayer4_upper': 9000. } \n",
    "\n",
    "thick_2_layer = {'zminLayer1':       0.0075, 'zminLayer2':       0.0100, 'zminLayer3':        100., 'zminLayer4':      100., 'zminLayer5': 100.,\n",
    "                 'zmaxLayer1_lower': 0.1250, 'zmaxLayer2_lower': 9000.0, 'zmaxLayer3_lower': 9000., 'zmaxLayer4_lower': 9000., \n",
    "                 'zmaxLayer1_upper': 0.1250, 'zmaxLayer2_upper': 9000.0, 'zmaxLayer3_upper': 9000., 'zmaxLayer4_upper': 9000. } \n",
    "\n",
    "mid_2_layer = {'zminLayer1':       0.0075, 'zminLayer2':       0.0100, 'zminLayer3':        100., 'zminLayer4':      100., 'zminLayer5': 100.,\n",
    "               'zmaxLayer1_lower': 0.050, 'zmaxLayer2_lower': 9000.0, 'zmaxLayer3_lower': 9000., 'zmaxLayer4_lower': 9000., \n",
    "               'zmaxLayer1_upper': 0.050, 'zmaxLayer2_upper': 9000.0, 'zmaxLayer3_upper': 9000., 'zmaxLayer4_upper': 9000. } \n",
    "\n",
    "thin_2_layer = {'zminLayer1':       0.0075, 'zminLayer2':       0.0100, 'zminLayer3':        100., 'zminLayer4':      100., 'zminLayer5': 100.,\n",
    "                'zmaxLayer1_lower': 0.0250, 'zmaxLayer2_lower': 9000.0, 'zmaxLayer3_lower': 9000., 'zmaxLayer4_lower': 9000., \n",
    "                'zmaxLayer1_upper': 0.0250, 'zmaxLayer2_upper': 9000.0, 'zmaxLayer3_upper': 9000., 'zmaxLayer4_upper': 9000. } \n",
    "\n",
    "thick_3_layer = {'zminLayer1': 0.01, 'zminLayer2': 0.01, 'zminLayer3': 0.01, 'zminLayer4': 1000., 'zminLayer5': 1000.,\n",
    "               'zmaxLayer1_lower': 0.125, 'zmaxLayer2_lower': 0.2, 'zmaxLayer3_lower': 9000., 'zmaxLayer4_lower': 9000.,\n",
    "               'zmaxLayer1_upper': 0.125, 'zmaxLayer2_upper': 0.2, 'zmaxLayer3_upper': 9000., 'zmaxLayer4_upper': 9000.}\n",
    "    \n",
    "mid_3_layer = {'zminLayer1': 0.01, 'zminLayer2': 0.01, 'zminLayer3': 0.01, 'zminLayer4': 1000., 'zminLayer5': 1000.,\n",
    "               'zmaxLayer1_lower': 0.050, 'zmaxLayer2_lower': 0.2, 'zmaxLayer3_lower': 9000., 'zmaxLayer4_lower': 9000.,\n",
    "               'zmaxLayer1_upper': 0.050, 'zmaxLayer2_upper': 0.2, 'zmaxLayer3_upper': 9000., 'zmaxLayer4_upper': 9000.}\n",
    "\n",
    "thin_3_layer = {'zminLayer1': 0.01, 'zminLayer2': 0.01, 'zminLayer3': 0.01, 'zminLayer4': 1000., 'zminLayer5': 1000.,\n",
    "               'zmaxLayer1_lower': 0.025, 'zmaxLayer2_lower': 0.2, 'zmaxLayer3_lower': 9000., 'zmaxLayer4_lower': 9000.,\n",
    "               'zmaxLayer1_upper': 0.025, 'zmaxLayer2_upper': 0.2, 'zmaxLayer3_upper': 9000., 'zmaxLayer4_upper': 9000.}\n",
    "\n",
    "thick_4_layer = {'zminLayer1': 0.01, 'zminLayer2': 0.01, 'zminLayer3': 0.01, 'zminLayer4': 0.015, 'zminLayer5': 1000.,\n",
    "               'zmaxLayer1_lower': 0.075, 'zmaxLayer2_lower': 0.15, 'zmaxLayer3_lower': 0.20, 'zmaxLayer4_lower': 9000.,\n",
    "               'zmaxLayer1_upper': 0.075, 'zmaxLayer2_upper': 0.15, 'zmaxLayer3_upper': 0.20, 'zmaxLayer4_upper': 9000.}\n",
    "    \n",
    "mid_4_layer = {'zminLayer1': 0.01, 'zminLayer2': 0.01, 'zminLayer3': 0.01, 'zminLayer4': 0.015, 'zminLayer5': 1000.,\n",
    "               'zmaxLayer1_lower': 0.050, 'zmaxLayer2_lower': 0.125, 'zmaxLayer3_lower': 0.20, 'zmaxLayer4_lower': 9000.,\n",
    "               'zmaxLayer1_upper': 0.050, 'zmaxLayer2_upper': 0.125, 'zmaxLayer3_upper': 0.20, 'zmaxLayer4_upper': 9000.}\n",
    "\n",
    "thin_4_layer = {'zminLayer1': 0.01, 'zminLayer2': 0.01, 'zminLayer3': 0.01, 'zminLayer4': 0.015, 'zminLayer5': 1000.,\n",
    "               'zmaxLayer1_lower': 0.025, 'zmaxLayer2_lower': 0.100, 'zmaxLayer3_lower': 0.20, 'zmaxLayer4_lower': 9000.,\n",
    "               'zmaxLayer1_upper': 0.025, 'zmaxLayer2_upper': 0.100, 'zmaxLayer3_upper': 0.20, 'zmaxLayer4_upper': 9000.}\n",
    "\n",
    "for i, l in enumerate([one_layer, thin_2_layer, thick_2_layer, mid_2_layer, \n",
    "                       thick_3_layer, mid_3_layer, thin_3_layer,\n",
    "                       thick_4_layer, mid_4_layer, thin_4_layer]):\n",
    "    validate_layer_params(l)\n",
    "    \n",
    "dt_list = ['-2.0', '+0.0', '+2.0', '+4.0']\n",
    "\n",
    "config_all = {'{}K_CLM'.format(dt): {'file_manager': './file_manager_{}K.txt'.format(dt),\n",
    "                                     'decisions': {'snowLayers': 'CLM_2010'},\n",
    "                                     'parameters': default_params} for dt in dt_list}\n",
    "\n",
    "config_1layer = {'{}K_1L_all'.format(dt): {'file_manager': './file_manager_{}K.txt'.format(dt),\n",
    "                                            'decisions': {'snowLayers': 'CLM_2010'},\n",
    "                                            'parameters': one_layer} for dt in dt_list}\n",
    "\n",
    "config_2layer = {'{}K_2L_thin'.format(dt): {'file_manager': './file_manager_{}K.txt'.format(dt),\n",
    "                                            'decisions': {'snowLayers': 'CLM_2010'},\n",
    "                                            'parameters': thin_2_layer} for dt in dt_list}\n",
    "config_2layer.update({'{}K_2L_mid'.format(dt): {'file_manager': './file_manager_{}K.txt'.format(dt),\n",
    "                                                 'decisions': {'snowLayers': 'CLM_2010'},\n",
    "                                                 'parameters': mid_2_layer} for dt in dt_list})\n",
    "config_2layer.update({'{}K_2L_thick'.format(dt): {'file_manager': './file_manager_{}K.txt'.format(dt),\n",
    "                                                   'decisions': {'snowLayers': 'CLM_2010'},\n",
    "                                                   'parameters': thick_2_layer} for dt in dt_list})\n",
    "\n",
    "config_3layer = {'{}K_3L_thin'.format(dt): {'file_manager': './file_manager_{}K.txt'.format(dt),\n",
    "                                            'decisions': {'snowLayers': 'CLM_2010'},\n",
    "                                            'parameters': thin_3_layer} for dt in dt_list}\n",
    "config_3layer.update({'{}K_3L_mid'.format(dt): {'file_manager': './file_manager_{}K.txt'.format(dt),\n",
    "                                                 'decisions': {'snowLayers': 'CLM_2010'},\n",
    "                                                 'parameters': mid_3_layer} for dt in dt_list})\n",
    "config_3layer.update({'{}K_3L_thick'.format(dt): {'file_manager': './file_manager_{}K.txt'.format(dt),\n",
    "                                                   'decisions': {'snowLayers': 'CLM_2010'},\n",
    "                                                   'parameters': thick_3_layer} for dt in dt_list})\n",
    "\n",
    "config_4layer = {'{}K_4L_thin'.format(dt): {'file_manager': './file_manager_{}K.txt'.format(dt),\n",
    "                                            'decisions': {'snowLayers': 'CLM_2010'},\n",
    "                                            'parameters': thin_4_layer} for dt in dt_list}\n",
    "config_4layer.update({'{}K_4L_mid'.format(dt): {'file_manager': './file_manager_{}K.txt'.format(dt),\n",
    "                                                 'decisions': {'snowLayers': 'CLM_2010'},\n",
    "                                                 'parameters': mid_4_layer} for dt in dt_list})\n",
    "config_4layer.update({'{}K_4L_thick'.format(dt): {'file_manager': './file_manager_{}K.txt'.format(dt),\n",
    "                                                   'decisions': {'snowLayers': 'CLM_2010'},\n",
    "                                                   'parameters': thick_4_layer} for dt in dt_list})\n",
    "\n",
    "config_jrdn = {'{}K_JRDN'.format(dt): {'file_manager': './file_manager_{}K.txt'.format(dt),\n",
    "                                       'decisions': {'snowLayers': 'jrdn1991'},\n",
    "                                       'parameters': default_params} for dt in dt_list}"
   ]
  },
  {
   "cell_type": "code",
   "execution_count": 5,
   "metadata": {},
   "outputs": [
    {
     "name": "stdout",
     "output_type": "stream",
     "text": [
      "48\n"
     ]
    }
   ],
   "source": [
    "config_all.update(config_jrdn)\n",
    "config_all.update(config_1layer)\n",
    "config_all.update(config_2layer)\n",
    "config_all.update(config_3layer)\n",
    "config_all.update(config_4layer)"
   ]
  },
  {
   "cell_type": "code",
   "execution_count": 6,
   "metadata": {},
   "outputs": [],
   "source": [
    "executable = 'summa.exe'\n",
    "ens_dt = ps.Ensemble(executable, config_all, num_workers=24)"
   ]
  },
  {
   "cell_type": "code",
   "execution_count": 7,
   "metadata": {},
   "outputs": [],
   "source": [
    "ens_dt.run('local')"
   ]
  },
  {
   "cell_type": "code",
   "execution_count": 9,
   "metadata": {},
   "outputs": [],
   "source": [
    "assert len(ens_dt.summary()['error']) == 0"
   ]
  },
  {
   "cell_type": "code",
   "execution_count": null,
   "metadata": {},
   "outputs": [],
   "source": []
  }
 ],
 "metadata": {
  "kernelspec": {
   "display_name": "all",
   "language": "python",
   "name": "all"
  },
  "language_info": {
   "codemirror_mode": {
    "name": "ipython",
    "version": 3
   },
   "file_extension": ".py",
   "mimetype": "text/x-python",
   "name": "python",
   "nbconvert_exporter": "python",
   "pygments_lexer": "ipython3",
   "version": "3.7.3"
  }
 },
 "nbformat": 4,
 "nbformat_minor": 4
}
